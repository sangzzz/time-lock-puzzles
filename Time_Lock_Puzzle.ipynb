{
  "nbformat": 4,
  "nbformat_minor": 0,
  "metadata": {
    "colab": {
      "name": "Time Lock Puzzle.ipynb",
      "provenance": [],
      "collapsed_sections": []
    },
    "kernelspec": {
      "name": "python3",
      "display_name": "Python 3"
    },
    "language_info": {
      "name": "python"
    }
  },
  "cells": [
    {
      "cell_type": "markdown",
      "metadata": {
        "id": "-WMqetssNoqj"
      },
      "source": [
        "# Time Lock Puzzles and Timed Release Crypto\n",
        "\n",
        "\n",
        "\n",
        "\n",
        "### Adi Shamir, Ronald L. Rivest and David A. Wagner.\n",
        "\n",
        "\n",
        "---\n",
        "##### Submitted By, \n",
        "###### Ketan Kiran Bhujange - 181CO227\n",
        "###### Rajath C Aralikatti - 181CO241\n",
        "###### Sangeeth S V - 181CO246\n",
        "\n",
        "\n",
        "\n"
      ]
    },
    {
      "cell_type": "markdown",
      "metadata": {
        "id": "eXvTNzS2OToR"
      },
      "source": [
        "The goal of *'timed release crypto'* is to encrypt a message in such a way that it cannot be decrypted by anyone, not even the sender, until the intended amount of time has passed. This involves finding a 'time-lock puzzle' of sorts which makes it so that the message cannot be decrypted until this puzzle has been solved. This makes choosing the 'puzzle' very important. The most noteworthy thing is that the puzzle should not be parallelizable, i.e, the number of computers working on the puzzle should not affect the time it takes to solve the puzzle. <br><br>\n",
        "For example, consider a situation where the result of one operation is required by the next operation. While a certain degree of parallelizability is possible for the single operation, there is no feasible way to start the next operation until the current operation is finished. This is the fundamental principle used to develop the time lock puzzle here."
      ]
    },
    {
      "cell_type": "code",
      "metadata": {
        "id": "JyM4UlkZPxBv"
      },
      "source": [
        "# Import necessary packages\n",
        "import os\n",
        "import sys\n",
        "import math\n",
        "import re\n",
        "import time\n",
        "import random"
      ],
      "execution_count": 1,
      "outputs": []
    },
    {
      "cell_type": "markdown",
      "metadata": {
        "id": "Fzw68uoNRODr"
      },
      "source": [
        "The first task in creating the time lock puzzle as described by Adi Shamir et al. is to generate large primes p and q and also compute n = p\\*q along with its Euler's toitient function, phi(n) = (p-1) \\* (q-1). "
      ]
    },
    {
      "cell_type": "code",
      "metadata": {
        "colab": {
          "base_uri": "https://localhost:8080/"
        },
        "id": "q28nOPvjSONz",
        "outputId": "7e40e687-b877-469c-9b83-f6a8c06f8e04"
      },
      "source": [
        "# Fermat's primality test acts as a preliminary test of whether a number is prime or not.\n",
        "    # a^(p-1) ≡ 1 mod p\n",
        "    # Input: prime candidate p and security paramter s\n",
        "    # Output: either p is a composite (always trues), or\n",
        "            # p is a prime (with probability)\n",
        "    # The security parameter is just the number of values of a which is checked. \n",
        "\n",
        "\n",
        "def fermat_primality_test(p, s=5):\n",
        "    if p == 2:\n",
        "        return True\n",
        "    if not p & 1: # if p is even, number cant be a prime\n",
        "        return False\n",
        "\n",
        "    for i in range(s):\n",
        "        a = random.randrange(2, p-2)\n",
        "        x = pow(a, p-1, p) # a**(p-1) % p\n",
        "        # The pow function in python efficiently computes the power of first two parameters modulo the third parameter.\n",
        "        if x != 1:\n",
        "            return False\n",
        "    return True\n",
        "\n",
        "# Testing\n",
        "print(fermat_primality_test(53))\n",
        "print(fermat_primality_test(51))"
      ],
      "execution_count": 2,
      "outputs": [
        {
          "output_type": "stream",
          "text": [
            "True\n",
            "False\n"
          ],
          "name": "stdout"
        }
      ]
    },
    {
      "cell_type": "markdown",
      "metadata": {
        "id": "lLxbiT_nUFSB"
      },
      "source": [
        "The Fermat's primality test returns prime with a probability. Therefore it is necessary to use a more deterministic test for primality checking. We will use Miller-Rabin's primality test."
      ]
    },
    {
      "cell_type": "code",
      "metadata": {
        "colab": {
          "base_uri": "https://localhost:8080/"
        },
        "id": "5eBPr8eeVAGY",
        "outputId": "7e22ad97-f4ca-4c7f-a052-02dbf75cb8eb"
      },
      "source": [
        "def square_and_multiply(x, k, p=None):\n",
        "    # Square and Multiply Algorithm\n",
        "    # Parameters: positive integer x and integer exponent k,\n",
        "    #             optional modulus p\n",
        "    # Returns: x**k or x**k mod p when p is given\n",
        "\n",
        "    b = bin(k).lstrip('0b')\n",
        "    r = 1\n",
        "    for i in b:\n",
        "        r = r**2\n",
        "        if i == '1':\n",
        "            r = r * x\n",
        "        if p:\n",
        "            r %= p\n",
        "    return r\n",
        "\n",
        "def witness(a, r, p):\n",
        "    # Returns: True, if there is an Euler witness that p is not prime.\n",
        "    #          False, when p might be prime\n",
        "    \n",
        "    z = square_and_multiply(a, r, p)\n",
        "    if z == 1:\n",
        "        return False\n",
        "\n",
        "    for i in range(u):\n",
        "        z = square_and_multiply(a, 2**i * r, p)\n",
        "        if z == p1:\n",
        "            return False\n",
        "    return True\n",
        "\n",
        "def miller_rabin_primality_test(p, s=5):\n",
        "    # 2 is the only even prime number\n",
        "    if p == 2: \n",
        "        return True\n",
        "    if not (p & 1):\n",
        "        return False\n",
        "    if not fermat_primality_test(p):\n",
        "      return False\n",
        "    # Here, we bring p-1 to 2^u * t form where t is odd.\n",
        "    p1 = p - 1\n",
        "    u = 0\n",
        "    t = p1\n",
        "    while t % 2 == 0:\n",
        "        t >>= 1\n",
        "        u += 1\n",
        "    # at this stage p-1 = 2**u * t  holds\n",
        "    assert p-1 == 2**u * t\n",
        "\n",
        "    def witness(a):\n",
        "        # Returns: True, if there is an Euler witness that p is not prime.\n",
        "        #          False, when p might be prime\n",
        "        \n",
        "        z = square_and_multiply(a, t, p)\n",
        "        if z == 1:\n",
        "            return False\n",
        "\n",
        "        for i in range(u):\n",
        "            z = square_and_multiply(a, 2**i * t, p)\n",
        "            if z == p1:\n",
        "                return False\n",
        "        return True\n",
        "    \n",
        "    # We are checking for a witness 's' number of times. s is the security parameter.\n",
        "    for j in range(s):\n",
        "        a = random.randrange(2, p-2)\n",
        "        if witness(a):\n",
        "            return False\n",
        "\n",
        "    return True\n",
        "\n",
        "\n",
        "# Testing\n",
        "print(miller_rabin_primality_test(53))\n",
        "print(miller_rabin_primality_test(51))"
      ],
      "execution_count": 3,
      "outputs": [
        {
          "output_type": "stream",
          "text": [
            "True\n",
            "False\n"
          ],
          "name": "stdout"
        }
      ]
    },
    {
      "cell_type": "markdown",
      "metadata": {
        "id": "oMIggm1aaAI_"
      },
      "source": [
        "Now, we need to generate primes p and q and also compute phi(n)."
      ]
    },
    {
      "cell_type": "code",
      "metadata": {
        "colab": {
          "base_uri": "https://localhost:8080/"
        },
        "id": "exjbsM4ZaDGW",
        "outputId": "a3720f2e-a008-400f-ce7a-80b5050e2fb9"
      },
      "source": [
        "def generate_primes(n=512, k=1):\n",
        "    # Generates prime numbers with bitlength n.\n",
        "    # Stops after the generation of k prime numbers.\n",
        "    # Caution: The numbers tested for primality start at\n",
        "    # a random place, but the tests are drawn with the integers\n",
        "    # following from the random start.\n",
        "    \n",
        "    assert k > 0\n",
        "    assert n > 0 and n < 4096\n",
        "\n",
        "    # follows from the prime number theorem\n",
        "    necessary_steps = math.floor( math.log(2**n) / 2 )\n",
        "    \n",
        "    # get n random bits as our first number to test for primality\n",
        "    x = random.getrandbits(n)\n",
        "\n",
        "    primes = []\n",
        "\n",
        "    while k>0:\n",
        "        if miller_rabin_primality_test(x, s=7):\n",
        "            primes.append(x)\n",
        "            k = k-1\n",
        "        x = x+1\n",
        "\n",
        "    return primes\n",
        "\n",
        "# testing\n",
        "print(generate_primes(n=512, k=1)[0])\n",
        "print(generate_primes(n=512, k=1)[0])"
      ],
      "execution_count": 4,
      "outputs": [
        {
          "output_type": "stream",
          "text": [
            "11173788662624002577865892993025230120288901237640303861473786112667325931745475113409647115535535349388737678189666455975840379263190057558129149428405541\n",
            "391353543213476929108265248133783892756457732662626055031057568473464821670324896023190645787462757374299634592568905557726871189525560149720985166774517\n"
          ],
          "name": "stdout"
        }
      ]
    },
    {
      "cell_type": "markdown",
      "metadata": {
        "id": "5G5U6NlzbLyC"
      },
      "source": [
        "Now, the second step is to find the number of squarings per second."
      ]
    },
    {
      "cell_type": "code",
      "metadata": {
        "colab": {
          "base_uri": "https://localhost:8080/"
        },
        "id": "0Mn4h3jgcxUO",
        "outputId": "78068855-5a73-4759-a150-c4f4974c9d43"
      },
      "source": [
        "count = 0\n",
        "exp_b = random.getrandbits(1024)\n",
        "exp_n = random.getrandbits(2048)\n",
        "\n",
        "t_end = time.time() + 10\n",
        "while time.time() < t_end:\n",
        "    count += 1\n",
        "    exp_b = exp_b ** 2 % exp_n\n",
        "\n",
        "# count = count // 10\n",
        "print(count//10)"
      ],
      "execution_count": 5,
      "outputs": [
        {
          "output_type": "stream",
          "text": [
            "69772\n"
          ],
          "name": "stdout"
        }
      ]
    },
    {
      "cell_type": "code",
      "metadata": {
        "id": "vwvCXZApdU-N"
      },
      "source": [
        "squarings_per_second = count//10"
      ],
      "execution_count": 6,
      "outputs": []
    },
    {
      "cell_type": "markdown",
      "metadata": {
        "id": "ricWx6APuhnk"
      },
      "source": [
        "Now we need a random key for a conventional cryptosystem such as Fernet, which is an AES based assymetric encryption protocol"
      ]
    },
    {
      "cell_type": "code",
      "metadata": {
        "colab": {
          "base_uri": "https://localhost:8080/"
        },
        "id": "AJbMdZ--dZec",
        "outputId": "2e2847b8-91be-430c-d50f-283cb8220693"
      },
      "source": [
        "!pip install cryptography\n",
        "from cryptography.fernet import Fernet"
      ],
      "execution_count": 7,
      "outputs": [
        {
          "output_type": "stream",
          "text": [
            "Collecting cryptography\n",
            "\u001b[?25l  Downloading https://files.pythonhosted.org/packages/f8/1f/acde6ff69864c5e78b56488e3afd93c1ccc8c2651186e2a5f93d93f64859/cryptography-3.4.6-cp36-abi3-manylinux2014_x86_64.whl (3.2MB)\n",
            "\u001b[K     |████████████████████████████████| 3.2MB 8.7MB/s \n",
            "\u001b[?25hRequirement already satisfied: cffi>=1.12 in /usr/local/lib/python3.7/dist-packages (from cryptography) (1.14.5)\n",
            "Requirement already satisfied: pycparser in /usr/local/lib/python3.7/dist-packages (from cffi>=1.12->cryptography) (2.20)\n",
            "Installing collected packages: cryptography\n",
            "Successfully installed cryptography-3.4.6\n"
          ],
          "name": "stdout"
        }
      ]
    },
    {
      "cell_type": "markdown",
      "metadata": {
        "id": "Y205amwT19RY"
      },
      "source": [
        "The paper also talks about a faster way to compute b = a^(2^t) where 2^t is first computed as e and then b is computed as a^e."
      ]
    },
    {
      "cell_type": "code",
      "metadata": {
        "id": "yD1yHEzD2OCS"
      },
      "source": [
        "\n",
        "def successive_squares(base: int, mod: int, length: int) -> [int]:\n",
        "    table = [base % mod]\n",
        "    prev = base % mod\n",
        "    for n in range(1, length):\n",
        "        squared = prev**2 % mod\n",
        "        table.append(squared)\n",
        "        prev = squared\n",
        "    return table\n",
        "\n",
        "\n",
        "def fast_exponentiation(n: int, g: int, x: int) -> int:\n",
        "    # reverses binary string\n",
        "    binary = bin(x)[2:][::-1]\n",
        "    squares = successive_squares(g, n, len(binary))\n",
        "    # keeps positive powers of two\n",
        "    factors = [tup[1] for tup in zip(binary, squares) if tup[0] == '1']\n",
        "    acc = 1\n",
        "    for factor in factors:\n",
        "        acc = acc * factor % n\n",
        "    return acc"
      ],
      "execution_count": 8,
      "outputs": []
    },
    {
      "cell_type": "markdown",
      "metadata": {
        "id": "QcJtpKsBs7jd"
      },
      "source": [
        "Now, we have everything we need for the encryption process"
      ]
    },
    {
      "cell_type": "code",
      "metadata": {
        "id": "Vw2TcmPEvd5i"
      },
      "source": [
        "# The encryption process takes in three parameters\n",
        "#   message: as a string of bytes\n",
        "#   seconds: an integer, a measure of how much time has to be delayed\n",
        "# \n",
        "# It returns \n",
        "#   n: p*q, p and q are hidden\n",
        "#   a: safe pseudorandom number, can be 2 also.\n",
        "#   t: seconds*squarings_per_second\n",
        "#   encrypted_key: the encrypted key obtained after encryption of the key \n",
        "#                   generated by Fernet\n",
        "#   encrypted_message: the message after encryption\n",
        "def encrypt(message: bytes, seconds: int):\n",
        "    if not seconds or not squarings_per_second:\n",
        "        raise AssertionError\n",
        "\n",
        "    # 1.  Generation of two large primes p and q and computing n and phi(n)\n",
        "    p = generate_primes(n=1024, k=1)[0]\n",
        "    q = generate_primes(n=1024, k=1)[0]\n",
        "    n = p * q\n",
        "    phi_n = (p - 1) * (q - 1)\n",
        "\n",
        "    # 2.  Computing t = time * squarings_per_second\n",
        "    t = seconds * squarings_per_second\n",
        "    \n",
        "    # 3.  Generation of a random key for a conventional cryptosystem like fernet.\n",
        "    #     Fernet is an asymmetric encryption protocol using AES\n",
        "    key = Fernet.generate_key()\n",
        "    key_int = int.from_bytes(key, sys.byteorder)\n",
        "    cipher_suite = Fernet(key)\n",
        "    # print(f'{key} \\n {key_int} \\n {cipher_suite}')\n",
        "\n",
        "    # 4.  Encryption using the chosen cryptosystem\n",
        "    encrypted_message = cipher_suite.encrypt(message)\n",
        "\n",
        "    # 5.  Pick safe, pseudo-random a where 1 < a < n\n",
        "    #     Alternatively, we could use a = 2\n",
        "    a = int.from_bytes(os.urandom(32), sys.byteorder) % n + 1\n",
        "    assert a!=1 and a!=n\n",
        "\n",
        "    # 6.  Key Encryption\n",
        "    e = pow(2, t, phi_n)\n",
        "    # b = fast_exponentiation(n, a, e)\n",
        "    b = pow(a, e, n)\n",
        "    encrypted_key = (key_int % n + b) % n\n",
        "    \n",
        "    \n",
        "    return n, a, t, encrypted_key, encrypted_message"
      ],
      "execution_count": 9,
      "outputs": []
    },
    {
      "cell_type": "code",
      "metadata": {
        "colab": {
          "base_uri": "https://localhost:8080/"
        },
        "id": "_28iRD8nyTU_",
        "outputId": "2c11d644-7b85-484b-fa3e-b663cf09f76b"
      },
      "source": [
        "# Testing the encryption\n",
        "print(encrypt(message='Vote'.encode(), seconds=10))"
      ],
      "execution_count": 10,
      "outputs": [
        {
          "output_type": "stream",
          "text": [
            "(2066073643581088238096268066130733059810696617763110420757814734683515031949490265917515572525156325969688456402746629417058443844800520382925166208989995591000572182028366031216513131405796807635876355810326024756103983923062537014761077510016500181921624718664404073378269672602113836068381864607061586876794267981309705992285410694163565538701449428354088910335842693294774978035947419570250483271936858604721288843898043046755580032574680807756506893887642115072522989536916780739360631842996661847148318435526423242379349769778081474272702801146391842451491172006543548504818812374585882577838145692635591352313, 54174469325431246892946132370458396673065080252676372190836587729148523033542, 697720, 1665120625188127052337414861840537609992224666942447541001433320770522106988420165274823549870762149433092577056223044143772784513188398525430670770285828648248576002002501026482765414161610243130867345213270256155562901960730951299845377520905710833757787988083068534942056342833710598191244957430265849952733729512938679140630387991766445079394673483562129846364425552563393717721211290740909932183125141099981283199181897500698531642089905601232221408773563105809608713917027871524554630214021096886428170894918821672832737756618053770684321520776690972774340561136147470595632564858367139013722414911337158249386, b'gAAAAABgVMNyct1nnnk9awyUIHn_1TA9Za0ovAA8VHru9y6O-zAUdE5Q1gsPV-u73Wxt1mUsR_UoMlyA55_MIUHGNSf4YTR0xg==')\n"
          ],
          "name": "stdout"
        }
      ]
    },
    {
      "cell_type": "markdown",
      "metadata": {
        "id": "DIogdp1K2oJX"
      },
      "source": [
        "The decryption process is where the time lock puzzle plays its role. Here, we have assumed successive squaring to be the non-parallelizable operation. That is, the result of one operation is required for the next operation to begin."
      ]
    },
    {
      "cell_type": "code",
      "metadata": {
        "id": "9Dkwh0YU39SU"
      },
      "source": [
        "# The decrypt method takes in 5 parameters:\n",
        "#     n:  p*q\n",
        "#     a:  safe pseudorandom number\n",
        "#     t:  seconds * squarings_per_second\n",
        "#     enc_key:  the encryption key generated by the encrypt method\n",
        "#     enc_message: the encrypted message obtained from the encrypt method\n",
        "#  It returns the decrypted message after enough time has passed\n",
        "def decrypt(n: int, a: int, t: int, enc_key: int, enc_message: int) -> bytes:\n",
        "    # Successive squaring to find b\n",
        "    # We assume this cannot be parallelized\n",
        "    b = a % n\n",
        "    for i in range(t):\n",
        "        b = b**2 % n\n",
        "    dec_key = (enc_key - b) % n\n",
        "\n",
        "    # Retrieve key, decrypt message\n",
        "    key_bytes = int.to_bytes(dec_key, length=64, byteorder=sys.byteorder)\n",
        "    cipher_suite = Fernet(key_bytes)\n",
        "    return cipher_suite.decrypt(enc_message)"
      ],
      "execution_count": 11,
      "outputs": []
    },
    {
      "cell_type": "markdown",
      "metadata": {
        "id": "MY1yI-AE5Wwz"
      },
      "source": [
        "Both decrypt and encrypt functions have been defined. All that's left is to run it and measure the time taken to complete the execution."
      ]
    },
    {
      "cell_type": "code",
      "metadata": {
        "id": "zYFm9MH95nKY"
      },
      "source": [
        "def run_time_lock_puzzle(message: str, seconds: int, repeats: int):\n",
        "    n, a, t, encrypted_key, encrypted_message = encrypt(message.encode(), seconds)\n",
        "\n",
        "    times_taken = []\n",
        "    for i in range(repeats):\n",
        "      operation_time = time.time()\n",
        "      print('Decrypting')\n",
        "      print(decrypt(n, a, t, encrypted_key, encrypted_message).decode())\n",
        "      times_taken.append(time.time()-operation_time)\n",
        "      print(times_taken[-1])\n",
        "\n",
        "    print(f'Average time taken for decryption = {sum(times_taken)/len(times_taken)} seconds.') "
      ],
      "execution_count": 12,
      "outputs": []
    },
    {
      "cell_type": "code",
      "metadata": {
        "colab": {
          "base_uri": "https://localhost:8080/"
        },
        "id": "fn8_7lyf6tA8",
        "outputId": "e54eb5f5-43cc-45fc-eff7-e1d39a01dd5d"
      },
      "source": [
        "message = str(input('Enter Message : '))\n",
        "seconds = int(input('Enter Time to Delay in seconds : '))"
      ],
      "execution_count": 15,
      "outputs": [
        {
          "output_type": "stream",
          "text": [
            "Enter Message : gdasdgdsgfdsads\n",
            "Enter Time to Delay in seconds : 15\n"
          ],
          "name": "stdout"
        }
      ]
    },
    {
      "cell_type": "code",
      "metadata": {
        "colab": {
          "base_uri": "https://localhost:8080/"
        },
        "id": "bdril_SX7CVf",
        "outputId": "354eae5a-6150-4d6b-a2ba-51abc0124de8"
      },
      "source": [
        "run_time_lock_puzzle(message=message, seconds=seconds, repeats = 1)"
      ],
      "execution_count": 16,
      "outputs": [
        {
          "output_type": "stream",
          "text": [
            "Decrypting\n",
            "gdasdgdsgfdsads\n",
            "14.268259763717651\n",
            "Average time taken for decryption = 14.268259763717651 seconds.\n"
          ],
          "name": "stdout"
        }
      ]
    },
    {
      "cell_type": "code",
      "metadata": {
        "colab": {
          "base_uri": "https://localhost:8080/",
          "height": 162
        },
        "id": "0pwy0IRI-smJ",
        "outputId": "11a1dc06-e4a6-4c03-d193-e18e0332325c"
      },
      "source": [
        "os.urandom(32)"
      ],
      "execution_count": 19,
      "outputs": [
        {
          "output_type": "error",
          "ename": "UnicodeDecodeError",
          "evalue": "ignored",
          "traceback": [
            "\u001b[0;31m---------------------------------------------------------------------------\u001b[0m",
            "\u001b[0;31mUnicodeDecodeError\u001b[0m                        Traceback (most recent call last)",
            "\u001b[0;32m<ipython-input-19-aa3c77b922ea>\u001b[0m in \u001b[0;36m<module>\u001b[0;34m()\u001b[0m\n\u001b[0;32m----> 1\u001b[0;31m \u001b[0mos\u001b[0m\u001b[0;34m.\u001b[0m\u001b[0murandom\u001b[0m\u001b[0;34m(\u001b[0m\u001b[0;36m32\u001b[0m\u001b[0;34m)\u001b[0m\u001b[0;34m.\u001b[0m\u001b[0mdecode\u001b[0m\u001b[0;34m(\u001b[0m\u001b[0;34m)\u001b[0m\u001b[0;34m\u001b[0m\u001b[0;34m\u001b[0m\u001b[0m\n\u001b[0m",
            "\u001b[0;31mUnicodeDecodeError\u001b[0m: 'utf-8' codec can't decode byte 0xb2 in position 3: invalid start byte"
          ]
        }
      ]
    },
    {
      "cell_type": "code",
      "metadata": {
        "id": "iFpDVbOVId9s"
      },
      "source": [
        ""
      ],
      "execution_count": null,
      "outputs": []
    }
  ]
}